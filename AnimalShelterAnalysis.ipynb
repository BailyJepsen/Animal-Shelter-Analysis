{
 "cells": [
  {
   "cell_type": "markdown",
   "id": "194046ab",
   "metadata": {},
   "source": [
    "# Analysis of Bloomington Animal Shelter Animal Care and Control Data: Black Fur-Colored Cat Adoptions\n",
    "by Baily Jepsen <br>\n",
    "\n",
    "## Table of Contents\n",
    "<ul>\n",
    "<li><a href=\"#intro\">Introduction</a></li>\n",
    "<li><a href=\"#wrangling\">Data Wrangling</a></li>\n",
    "<li><a href=\"#analysis\">Data Analysis</a></li>\n",
    "<li><a href=\"#conclusion\">Conclusion</a></li>\n",
    "<li><a href=\"#references\">References</a></li>\n",
    "</ul>"
   ]
  },
  {
   "cell_type": "markdown",
   "id": "e1e3bbc7",
   "metadata": {},
   "source": [
    "<a id='intro'></a>\n",
    "## Introduction\n",
    "\n",
    "### Context\n",
    "\n",
    "> Black cats have historically been deemed undesirable due to superstitions marking them as bad luck. This is largely due to Christianity associating them with the Devil/Satan and therefore witches (Vocelle, 2013). When animals are less desirable than others, animal shelters take on more work and expenses because they are in their care longer. Understanding the relationship between black cats and their adoption rate can be vital information to animal shelters. It can help them estimate a length of time the animal is most likely to be in their care, and therefore adjust adoption costs accordingly through the use of adoption promotions (\"Celebrate Black Cat,\" 2017).\n",
    "\n",
    "### Hypothesis\n",
    "\n",
    "> **Null:** Fur color (black vs non-black) is not related to the outcome of a cat.\\\n",
    "> **Alternative:** Fur color (black vs non-black) is related to the outcome of a cat.\n",
    "\n",
    "### Dataset Description\n",
    "\n",
    "> The data that will be used for analysis is from Animal Care and Control at the Bloomington Animal Shelter. The dataset resulted from a management software migration that occurred in 2017 (John Snow Labs, 2022). The dataset is publicly available on Kaggle, though John Snow Labs is the original owner. Official licensing information was unavailable for this dataset, except what John Snow Labs describes to be a “Research Data License” (John Snow Labs, 2022). This entails restrictions on commercial use, unless a subscription is purchased. Since I am using the dataset for educational research purposes, the only requirement is to attribute the dataset to John Snow Labs. The dataset can be found using links included in <a href=\"#references\">References</a>.\n",
    "\n",
    "> The dataset contains 10,290 entries and covers various animals brought in by Animal Care and Control and their movements through the shelter. It utilizes 23 variables to describe each animal and their time spent in the shelter. Columns that contain datetime data are not recognized by Jupyter upon importing the dataset. While not all columns will be utilized in the analysis of this dataset, they are all listed and explained in the Table 01. Table 02 contains the columns that will be used in the analysis.\n",
    "\n",
    "> Table 01:\n",
    "\n",
    "| **Column**       | **Type**  | **Description** |\n",
    "| :--------------- | :-------- | :-------------- |\n",
    "| id               | Integer   | A unique identification number of the saving animal record in software |\n",
    "| intakedate       | String    | Intake date of animal |\n",
    "| intakereason     | String    | Reason for animal intake |\n",
    "| istransfer       | Boolean   | Was the animal transferred to shelter |\n",
    "| sheltercode      | String    | Unique code for shelter |\n",
    "| identichipnumber | String    | Identity chip number of shelter |\n",
    "| animalname       | String    | Name of the animal |\n",
    "| breedname        | String    | Breed name of the animal |\n",
    "| basecolour       | String    | Color of the animal |\n",
    "| speciesname      | String    | Name of the animal species |\n",
    "| animalage        | String    | Age of the animal |\n",
    "| sexname          | String    | Gender of the animal |\n",
    "| location         | String    | Location where animal was taken care of in the shelter |\n",
    "| movementdate     | String    | Date when the animal was moved for care |\n",
    "| movementtype     | String    | Type of animal movement |\n",
    "| istrial          | Boolean   | Was the animal on trial |\n",
    "| returneddate     | String    | Date when the animal was returned |\n",
    "| returnedreason   | String    | Reason for returning the animal |\n",
    "| deceaseddate     | String    | Date of the animal's death |\n",
    "| deceasedreason   | String    | Reason for the animal's death |\n",
    "| diedoffshelter   | Boolean   | Was the animal death off shelter |\n",
    "| puttosleep       | Boolean   | Was the animal put to sleep |\n",
    "| isdoa            | Boolean   | Was the animal dead when it arrived |\n",
    "\n",
    "> Table 02:\n",
    "\n",
    "| **Column**       | **Type**  | **Description** |\n",
    "| :--------------- | :-------- | :-------------- |\n",
    "| id               | Integer   | A unique identification number of the saving animal record in software |\n",
    "| basecolour       | String    | Color of the animal |\n",
    "| speciesname      | String    | Name of the animal species |\n",
    "| movementtype     | String    | Type of animal movement |\n",
    "| puttosleep       | Boolean   | Was the animal put to sleep |"
   ]
  },
  {
   "cell_type": "code",
   "execution_count": 1,
   "id": "802cdf85",
   "metadata": {},
   "outputs": [],
   "source": [
    "# Import statements for packages.\n",
    "import numpy as np\n",
    "import pandas as pd\n",
    "import seaborn as sns\n",
    "\n",
    "import scipy.stats as st\n",
    "from scipy.stats import chi2_contingency \n",
    "from scipy.stats.contingency import association\n",
    "\n",
    "import matplotlib.pyplot as plt\n",
    "\n",
    "%matplotlib inline"
   ]
  },
  {
   "cell_type": "markdown",
   "id": "cd52ea44",
   "metadata": {},
   "source": [
    "<a id='wrangling'></a>\n",
    "## Data Wrangling\n",
    "\n",
    "### General Properties"
   ]
  },
  {
   "cell_type": "code",
   "execution_count": 2,
   "id": "1e75de18",
   "metadata": {},
   "outputs": [
    {
     "data": {
      "text/html": [
       "<div>\n",
       "<style scoped>\n",
       "    .dataframe tbody tr th:only-of-type {\n",
       "        vertical-align: middle;\n",
       "    }\n",
       "\n",
       "    .dataframe tbody tr th {\n",
       "        vertical-align: top;\n",
       "    }\n",
       "\n",
       "    .dataframe thead th {\n",
       "        text-align: right;\n",
       "    }\n",
       "</style>\n",
       "<table border=\"1\" class=\"dataframe\">\n",
       "  <thead>\n",
       "    <tr style=\"text-align: right;\">\n",
       "      <th></th>\n",
       "      <th>id</th>\n",
       "      <th>intakedate</th>\n",
       "      <th>intakereason</th>\n",
       "      <th>istransfer</th>\n",
       "      <th>sheltercode</th>\n",
       "      <th>identichipnumber</th>\n",
       "      <th>animalname</th>\n",
       "      <th>breedname</th>\n",
       "      <th>basecolour</th>\n",
       "      <th>speciesname</th>\n",
       "      <th>...</th>\n",
       "      <th>movementdate</th>\n",
       "      <th>movementtype</th>\n",
       "      <th>istrial</th>\n",
       "      <th>returndate</th>\n",
       "      <th>returnedreason</th>\n",
       "      <th>deceaseddate</th>\n",
       "      <th>deceasedreason</th>\n",
       "      <th>diedoffshelter</th>\n",
       "      <th>puttosleep</th>\n",
       "      <th>isdoa</th>\n",
       "    </tr>\n",
       "  </thead>\n",
       "  <tbody>\n",
       "    <tr>\n",
       "      <th>0</th>\n",
       "      <td>15801</td>\n",
       "      <td>2009-11-28</td>\n",
       "      <td>Moving</td>\n",
       "      <td>False</td>\n",
       "      <td>C09115463</td>\n",
       "      <td>0A115D7358</td>\n",
       "      <td>Jadzia</td>\n",
       "      <td>Domestic Short Hair</td>\n",
       "      <td>Tortie</td>\n",
       "      <td>Cat</td>\n",
       "      <td>...</td>\n",
       "      <td>2017-05-13</td>\n",
       "      <td>Adoption</td>\n",
       "      <td>False</td>\n",
       "      <td>NaN</td>\n",
       "      <td>Stray</td>\n",
       "      <td>NaN</td>\n",
       "      <td>Died in care</td>\n",
       "      <td>False</td>\n",
       "      <td>False</td>\n",
       "      <td>False</td>\n",
       "    </tr>\n",
       "    <tr>\n",
       "      <th>1</th>\n",
       "      <td>15932</td>\n",
       "      <td>2009-12-08</td>\n",
       "      <td>Moving</td>\n",
       "      <td>False</td>\n",
       "      <td>D09125594</td>\n",
       "      <td>0A11675477</td>\n",
       "      <td>Gonzo</td>\n",
       "      <td>German Shepherd Dog/Mix</td>\n",
       "      <td>Tan</td>\n",
       "      <td>Dog</td>\n",
       "      <td>...</td>\n",
       "      <td>2017-04-24</td>\n",
       "      <td>Adoption</td>\n",
       "      <td>False</td>\n",
       "      <td>NaN</td>\n",
       "      <td>Stray</td>\n",
       "      <td>NaN</td>\n",
       "      <td>Died in care</td>\n",
       "      <td>False</td>\n",
       "      <td>False</td>\n",
       "      <td>False</td>\n",
       "    </tr>\n",
       "    <tr>\n",
       "      <th>2</th>\n",
       "      <td>28859</td>\n",
       "      <td>2012-08-10</td>\n",
       "      <td>Abandoned</td>\n",
       "      <td>False</td>\n",
       "      <td>D12082309</td>\n",
       "      <td>0A13253C7B</td>\n",
       "      <td>Maggie</td>\n",
       "      <td>Shep Mix/Siberian Husky</td>\n",
       "      <td>Various</td>\n",
       "      <td>Dog</td>\n",
       "      <td>...</td>\n",
       "      <td>2017-04-15</td>\n",
       "      <td>Adoption</td>\n",
       "      <td>False</td>\n",
       "      <td>NaN</td>\n",
       "      <td>Stray</td>\n",
       "      <td>NaN</td>\n",
       "      <td>Died in care</td>\n",
       "      <td>False</td>\n",
       "      <td>False</td>\n",
       "      <td>False</td>\n",
       "    </tr>\n",
       "    <tr>\n",
       "      <th>3</th>\n",
       "      <td>30812</td>\n",
       "      <td>2013-01-11</td>\n",
       "      <td>Abandoned</td>\n",
       "      <td>False</td>\n",
       "      <td>C1301091</td>\n",
       "      <td>0A13403D4D</td>\n",
       "      <td>Pretty Girl</td>\n",
       "      <td>Domestic Short Hair</td>\n",
       "      <td>Dilute tortoiseshell</td>\n",
       "      <td>Cat</td>\n",
       "      <td>...</td>\n",
       "      <td>2017-04-18</td>\n",
       "      <td>Foster</td>\n",
       "      <td>False</td>\n",
       "      <td>2018-05-29</td>\n",
       "      <td>Stray</td>\n",
       "      <td>NaN</td>\n",
       "      <td>Died in care</td>\n",
       "      <td>False</td>\n",
       "      <td>False</td>\n",
       "      <td>False</td>\n",
       "    </tr>\n",
       "    <tr>\n",
       "      <th>4</th>\n",
       "      <td>30812</td>\n",
       "      <td>2013-01-11</td>\n",
       "      <td>Abandoned</td>\n",
       "      <td>False</td>\n",
       "      <td>C1301091</td>\n",
       "      <td>0A13403D4D</td>\n",
       "      <td>Pretty Girl</td>\n",
       "      <td>Domestic Short Hair</td>\n",
       "      <td>Dilute tortoiseshell</td>\n",
       "      <td>Cat</td>\n",
       "      <td>...</td>\n",
       "      <td>2018-05-29</td>\n",
       "      <td>Adoption</td>\n",
       "      <td>False</td>\n",
       "      <td>NaN</td>\n",
       "      <td>Stray</td>\n",
       "      <td>NaN</td>\n",
       "      <td>Died in care</td>\n",
       "      <td>False</td>\n",
       "      <td>False</td>\n",
       "      <td>False</td>\n",
       "    </tr>\n",
       "  </tbody>\n",
       "</table>\n",
       "<p>5 rows × 23 columns</p>\n",
       "</div>"
      ],
      "text/plain": [
       "      id  intakedate intakereason  istransfer sheltercode identichipnumber  \\\n",
       "0  15801  2009-11-28       Moving       False   C09115463       0A115D7358   \n",
       "1  15932  2009-12-08       Moving       False   D09125594       0A11675477   \n",
       "2  28859  2012-08-10    Abandoned       False   D12082309       0A13253C7B   \n",
       "3  30812  2013-01-11    Abandoned       False    C1301091       0A13403D4D   \n",
       "4  30812  2013-01-11    Abandoned       False    C1301091       0A13403D4D   \n",
       "\n",
       "    animalname                breedname            basecolour speciesname  \\\n",
       "0       Jadzia      Domestic Short Hair                Tortie         Cat   \n",
       "1        Gonzo  German Shepherd Dog/Mix                   Tan         Dog   \n",
       "2       Maggie  Shep Mix/Siberian Husky               Various         Dog   \n",
       "3  Pretty Girl      Domestic Short Hair  Dilute tortoiseshell         Cat   \n",
       "4  Pretty Girl      Domestic Short Hair  Dilute tortoiseshell         Cat   \n",
       "\n",
       "   ... movementdate movementtype istrial  returndate returnedreason  \\\n",
       "0  ...   2017-05-13     Adoption   False         NaN          Stray   \n",
       "1  ...   2017-04-24     Adoption   False         NaN          Stray   \n",
       "2  ...   2017-04-15     Adoption   False         NaN          Stray   \n",
       "3  ...   2017-04-18       Foster   False  2018-05-29          Stray   \n",
       "4  ...   2018-05-29     Adoption   False         NaN          Stray   \n",
       "\n",
       "   deceaseddate deceasedreason diedoffshelter puttosleep  isdoa  \n",
       "0           NaN   Died in care          False      False  False  \n",
       "1           NaN   Died in care          False      False  False  \n",
       "2           NaN   Died in care          False      False  False  \n",
       "3           NaN   Died in care          False      False  False  \n",
       "4           NaN   Died in care          False      False  False  \n",
       "\n",
       "[5 rows x 23 columns]"
      ]
     },
     "execution_count": 2,
     "metadata": {},
     "output_type": "execute_result"
    }
   ],
   "source": [
    "# Loading the data and displaying five rows.\n",
    "df = pd.read_csv('animal-data-1.csv')\n",
    "\n",
    "df.head()"
   ]
  },
  {
   "cell_type": "code",
   "execution_count": 3,
   "id": "200fb0b7",
   "metadata": {},
   "outputs": [
    {
     "name": "stdout",
     "output_type": "stream",
     "text": [
      "There are 10290 rows and 23 columns in the dataset.\n"
     ]
    }
   ],
   "source": [
    "# Confirm the number of rows and columns in the dataset.\n",
    "rows = df.shape[0]\n",
    "columns = df.shape[1]\n",
    "\n",
    "print('There are {} rows and {} columns in the dataset.'.format(rows, columns))"
   ]
  },
  {
   "cell_type": "markdown",
   "id": "67dbd1d2",
   "metadata": {},
   "source": [
    "### Duplicated/Missing Data"
   ]
  },
  {
   "cell_type": "code",
   "execution_count": 4,
   "id": "25cb3153",
   "metadata": {},
   "outputs": [
    {
     "name": "stdout",
     "output_type": "stream",
     "text": [
      "There are 0 duplicated rows in the dataset.\n"
     ]
    }
   ],
   "source": [
    "# Are there any duplicated rows in the dataset?\n",
    "duplicated_rows = sum(df.duplicated())\n",
    "\n",
    "print('There are {} duplicated rows in the dataset.'.format(duplicated_rows))"
   ]
  },
  {
   "cell_type": "code",
   "execution_count": 5,
   "id": "78dcd21a",
   "metadata": {},
   "outputs": [
    {
     "data": {
      "text/plain": [
       "id                     0\n",
       "intakedate             0\n",
       "intakereason           2\n",
       "istransfer             0\n",
       "sheltercode            0\n",
       "identichipnumber    1966\n",
       "animalname             0\n",
       "breedname             45\n",
       "basecolour             0\n",
       "speciesname            0\n",
       "animalage              0\n",
       "sexname                0\n",
       "location               0\n",
       "movementdate           0\n",
       "movementtype           0\n",
       "istrial                0\n",
       "returndate          7034\n",
       "returnedreason         0\n",
       "deceaseddate        9964\n",
       "deceasedreason         0\n",
       "diedoffshelter         0\n",
       "puttosleep             0\n",
       "isdoa                  0\n",
       "dtype: int64"
      ]
     },
     "execution_count": 5,
     "metadata": {},
     "output_type": "execute_result"
    }
   ],
   "source": [
    "# Are there any variables with missing values?\n",
    "df.isnull().sum()"
   ]
  },
  {
   "cell_type": "markdown",
   "id": "5dbfd66d",
   "metadata": {},
   "source": [
    "> While there are variables with missing values in the dataset (`intakereason`, `identichipnumber`, `breedname`, `returndate`, and `deceaseddate`), these will not be used in the analysis."
   ]
  },
  {
   "cell_type": "markdown",
   "id": "5093bf97",
   "metadata": {},
   "source": [
    "### Column Properties"
   ]
  },
  {
   "cell_type": "code",
   "execution_count": 6,
   "id": "a9b63675",
   "metadata": {},
   "outputs": [
    {
     "name": "stdout",
     "output_type": "stream",
     "text": [
      "<class 'pandas.core.frame.DataFrame'>\n",
      "RangeIndex: 10290 entries, 0 to 10289\n",
      "Data columns (total 23 columns):\n",
      " #   Column            Non-Null Count  Dtype \n",
      "---  ------            --------------  ----- \n",
      " 0   id                10290 non-null  int64 \n",
      " 1   intakedate        10290 non-null  object\n",
      " 2   intakereason      10288 non-null  object\n",
      " 3   istransfer        10290 non-null  bool  \n",
      " 4   sheltercode       10290 non-null  object\n",
      " 5   identichipnumber  8324 non-null   object\n",
      " 6   animalname        10290 non-null  object\n",
      " 7   breedname         10245 non-null  object\n",
      " 8   basecolour        10290 non-null  object\n",
      " 9   speciesname       10290 non-null  object\n",
      " 10  animalage         10290 non-null  object\n",
      " 11  sexname           10290 non-null  object\n",
      " 12  location          10290 non-null  object\n",
      " 13  movementdate      10290 non-null  object\n",
      " 14  movementtype      10290 non-null  object\n",
      " 15  istrial           10290 non-null  bool  \n",
      " 16  returndate        3256 non-null   object\n",
      " 17  returnedreason    10290 non-null  object\n",
      " 18  deceaseddate      326 non-null    object\n",
      " 19  deceasedreason    10290 non-null  object\n",
      " 20  diedoffshelter    10290 non-null  bool  \n",
      " 21  puttosleep        10290 non-null  bool  \n",
      " 22  isdoa             10290 non-null  bool  \n",
      "dtypes: bool(5), int64(1), object(17)\n",
      "memory usage: 1.5+ MB\n"
     ]
    }
   ],
   "source": [
    "# Find the data type for each column.\n",
    "df.info()"
   ]
  },
  {
   "cell_type": "markdown",
   "id": "f6c117eb",
   "metadata": {},
   "source": [
    "> The dataset is composed of integer, string, and boolean data types. Jupyter has not recognized the datetime data type from the CSV file. This is fine because we do not need any of the dates for analysis."
   ]
  },
  {
   "cell_type": "code",
   "execution_count": 7,
   "id": "dcfad1b6",
   "metadata": {},
   "outputs": [
    {
     "data": {
      "text/plain": [
       "id                  7288\n",
       "intakedate           885\n",
       "intakereason          25\n",
       "istransfer             2\n",
       "sheltercode         7288\n",
       "identichipnumber     305\n",
       "animalname          4336\n",
       "breedname            799\n",
       "basecolour            78\n",
       "speciesname           27\n",
       "animalage            273\n",
       "sexname                3\n",
       "location              39\n",
       "movementdate         872\n",
       "movementtype           7\n",
       "istrial                1\n",
       "returndate           756\n",
       "returnedreason        24\n",
       "deceaseddate         211\n",
       "deceasedreason        13\n",
       "diedoffshelter         2\n",
       "puttosleep             2\n",
       "isdoa                  2\n",
       "dtype: int64"
      ]
     },
     "execution_count": 7,
     "metadata": {},
     "output_type": "execute_result"
    }
   ],
   "source": [
    "# Find the number of unique values in each column.\n",
    "df.nunique()"
   ]
  },
  {
   "cell_type": "markdown",
   "id": "df52dc99",
   "metadata": {},
   "source": [
    "> While there are 10,290 rows in this dataset, there are only 7,288 unique animals as indicated by the total number of unique IDs."
   ]
  },
  {
   "cell_type": "markdown",
   "id": "133b9556",
   "metadata": {},
   "source": [
    "### Data Cleaning\n",
    "\n",
    "> 1. Though the dataset contains missing values, those columns that contain the missing values are not pertinent to the analysis. These columns are considered extraneous and will be dropped from the dataset. \n",
    "\n",
    "> 2. Column labels require formatting for clarity.\n",
    "\n",
    "> 3. Since our analysis is focusing on cats, any animals that do not have \"Cat\" in the `speciesname` (`species_name`) column will be dropped.\n",
    "\n",
    "> 4. If a cat has been \"Reclaimed\", we will consider that outcome to be the same as an \"Adoption\". This will require converting \"Reclaimed\" values to \"Adoption\" in the `movementtype` (`movement_type`) column.\n",
    "\n",
    "> 5. If a cat has the value \"TRUE\" in the `puttosleep` (`put_to_sleep`) column, the value for `movementtype` (`movement_type`) will become \"Euthanasia\".\n",
    "\n",
    "> 6. If a cat has the value \"Black\" in the `furcolor` (`fur_color`) column, the value for a new boolean column `is_black` will be \"True\". Otherwise, the value for `is_black` will be \"False\".\n",
    "\n",
    "> 7. Rows that contain a `movementtype` (`movement_type`) value that is not needed for analysis will be dropped.\n",
    "\n",
    "> 8. The `basecolour` (`fur_color`) column contains multiple formatting errors, most likely due to various people inputting and handling the data. These contain:\n",
    "    * 8a. Repeating values (\"Brown and Black\" and \"Black and Brown\").\n",
    "    * 8b. Missing commas (\"Grey Black and White\" vs \"Black, Brown and White\").\n",
    "    * 8c. Lowercase letters (\"grey and Black\" vs \"Grey and Black\").\n",
    "\n",
    "> 9. The dataset does contain a type of duplicate values that need to be dealt with. For the purpose of our analysis, the dataset cannot contain a cat that has been transferred then adopted. This is because we are using the `transfer` value to indicate a cat that has not been adopted. In order to solve this, a duplicate `id` that has a `movementtype` (`movement_type`) of \"Transfer\" will be dropped. The \"Adoption\" entry is then preserved in the dataset, resulting in each `id` appearing only once in the dataset."
   ]
  },
  {
   "cell_type": "code",
   "execution_count": 8,
   "id": "3b59e628",
   "metadata": {},
   "outputs": [
    {
     "name": "stdout",
     "output_type": "stream",
     "text": [
      "<class 'pandas.core.frame.DataFrame'>\n",
      "RangeIndex: 10290 entries, 0 to 10289\n",
      "Data columns (total 5 columns):\n",
      " #   Column        Non-Null Count  Dtype \n",
      "---  ------        --------------  ----- \n",
      " 0   id            10290 non-null  int64 \n",
      " 1   basecolour    10290 non-null  object\n",
      " 2   speciesname   10290 non-null  object\n",
      " 3   movementtype  10290 non-null  object\n",
      " 4   puttosleep    10290 non-null  bool  \n",
      "dtypes: bool(1), int64(1), object(3)\n",
      "memory usage: 331.7+ KB\n"
     ]
    }
   ],
   "source": [
    "# 1. Remove extraneous columns that are not needed for analysis.\n",
    "df_clean = df.drop(['intakedate', 'intakereason', 'istransfer', 'sheltercode', 'identichipnumber', 'animalname', 'breedname', \n",
    "                    'animalage', 'sexname', 'location', 'movementdate', 'istrial', 'returndate', 'returnedreason', \n",
    "                    'deceaseddate', 'deceasedreason', 'diedoffshelter', 'isdoa'], axis=1)\n",
    "\n",
    "df_clean.info()"
   ]
  },
  {
   "cell_type": "code",
   "execution_count": 9,
   "id": "9cec813a",
   "metadata": {},
   "outputs": [
    {
     "name": "stdout",
     "output_type": "stream",
     "text": [
      "<class 'pandas.core.frame.DataFrame'>\n",
      "RangeIndex: 10290 entries, 0 to 10289\n",
      "Data columns (total 5 columns):\n",
      " #   Column         Non-Null Count  Dtype \n",
      "---  ------         --------------  ----- \n",
      " 0   id             10290 non-null  int64 \n",
      " 1   fur_color      10290 non-null  object\n",
      " 2   species_name   10290 non-null  object\n",
      " 3   movement_type  10290 non-null  object\n",
      " 4   put_to_sleep   10290 non-null  bool  \n",
      "dtypes: bool(1), int64(1), object(3)\n",
      "memory usage: 331.7+ KB\n"
     ]
    }
   ],
   "source": [
    "# 2. Insert underscores in column headings for clarity.\n",
    "df_clean.rename(columns={'basecolour': 'fur_color'}, inplace=True)\n",
    "df_clean.rename(columns={'speciesname': 'species_name'}, inplace=True)\n",
    "df_clean.rename(columns={'movementtype': 'movement_type'}, inplace=True)\n",
    "df_clean.rename(columns={'puttosleep': 'put_to_sleep'}, inplace=True)\n",
    "\n",
    "df_clean.info()"
   ]
  },
  {
   "cell_type": "code",
   "execution_count": 10,
   "id": "b53505f1",
   "metadata": {},
   "outputs": [
    {
     "data": {
      "text/plain": [
       "array(['Cat'], dtype=object)"
      ]
     },
     "execution_count": 10,
     "metadata": {},
     "output_type": "execute_result"
    }
   ],
   "source": [
    "# 3. Remove rows that do not include \"Cat\" in species_name.\n",
    "df_clean = df_clean.loc[df_clean['species_name'] == 'Cat']\n",
    "\n",
    "df_clean.species_name.unique()"
   ]
  },
  {
   "cell_type": "code",
   "execution_count": 11,
   "id": "3f865035",
   "metadata": {},
   "outputs": [
    {
     "data": {
      "text/plain": [
       "array(['Adoption', 'Foster', 'Transfer', 'Stolen', 'Escaped',\n",
       "       'Released To Wild'], dtype=object)"
      ]
     },
     "execution_count": 11,
     "metadata": {},
     "output_type": "execute_result"
    }
   ],
   "source": [
    "# 4. Convert \"Reclaimed\" to \"Adoption\" in the movement_type column.\n",
    "df_clean['movement_type'] = df_clean['movement_type'].str.replace('Reclaimed', 'Adoption')\n",
    "\n",
    "df_clean.movement_type.unique()"
   ]
  },
  {
   "cell_type": "code",
   "execution_count": 12,
   "id": "9a2b45c9",
   "metadata": {},
   "outputs": [
    {
     "data": {
      "text/plain": [
       "array(['Adoption', 'Foster', 'Euthanasia', 'Transfer', 'Stolen',\n",
       "       'Escaped', 'Released To Wild'], dtype=object)"
      ]
     },
     "execution_count": 12,
     "metadata": {},
     "output_type": "execute_result"
    }
   ],
   "source": [
    "# 5. If an animal was \"put to sleep\", change movement_type to \"Euthenasia\".\n",
    "df_clean['movement_type'].mask(df_clean['put_to_sleep'] == True, 'Euthanasia', inplace=True)\n",
    "df_clean.movement_type.unique()"
   ]
  },
  {
   "cell_type": "code",
   "execution_count": 13,
   "id": "41b21b3a",
   "metadata": {},
   "outputs": [
    {
     "data": {
      "text/html": [
       "<div>\n",
       "<style scoped>\n",
       "    .dataframe tbody tr th:only-of-type {\n",
       "        vertical-align: middle;\n",
       "    }\n",
       "\n",
       "    .dataframe tbody tr th {\n",
       "        vertical-align: top;\n",
       "    }\n",
       "\n",
       "    .dataframe thead th {\n",
       "        text-align: right;\n",
       "    }\n",
       "</style>\n",
       "<table border=\"1\" class=\"dataframe\">\n",
       "  <thead>\n",
       "    <tr style=\"text-align: right;\">\n",
       "      <th></th>\n",
       "      <th>id</th>\n",
       "      <th>fur_color</th>\n",
       "      <th>species_name</th>\n",
       "      <th>movement_type</th>\n",
       "      <th>put_to_sleep</th>\n",
       "      <th>is_black</th>\n",
       "    </tr>\n",
       "  </thead>\n",
       "  <tbody>\n",
       "    <tr>\n",
       "      <th>0</th>\n",
       "      <td>15801</td>\n",
       "      <td>Tortie</td>\n",
       "      <td>Cat</td>\n",
       "      <td>Adoption</td>\n",
       "      <td>False</td>\n",
       "      <td>False</td>\n",
       "    </tr>\n",
       "    <tr>\n",
       "      <th>3</th>\n",
       "      <td>30812</td>\n",
       "      <td>Dilute tortoiseshell</td>\n",
       "      <td>Cat</td>\n",
       "      <td>Foster</td>\n",
       "      <td>False</td>\n",
       "      <td>False</td>\n",
       "    </tr>\n",
       "    <tr>\n",
       "      <th>4</th>\n",
       "      <td>30812</td>\n",
       "      <td>Dilute tortoiseshell</td>\n",
       "      <td>Cat</td>\n",
       "      <td>Adoption</td>\n",
       "      <td>False</td>\n",
       "      <td>False</td>\n",
       "    </tr>\n",
       "    <tr>\n",
       "      <th>12</th>\n",
       "      <td>46437</td>\n",
       "      <td>Black</td>\n",
       "      <td>Cat</td>\n",
       "      <td>Euthanasia</td>\n",
       "      <td>True</td>\n",
       "      <td>True</td>\n",
       "    </tr>\n",
       "    <tr>\n",
       "      <th>13</th>\n",
       "      <td>46437</td>\n",
       "      <td>Black</td>\n",
       "      <td>Cat</td>\n",
       "      <td>Euthanasia</td>\n",
       "      <td>True</td>\n",
       "      <td>True</td>\n",
       "    </tr>\n",
       "  </tbody>\n",
       "</table>\n",
       "</div>"
      ],
      "text/plain": [
       "       id             fur_color species_name movement_type  put_to_sleep  \\\n",
       "0   15801                Tortie          Cat      Adoption         False   \n",
       "3   30812  Dilute tortoiseshell          Cat        Foster         False   \n",
       "4   30812  Dilute tortoiseshell          Cat      Adoption         False   \n",
       "12  46437                 Black          Cat    Euthanasia          True   \n",
       "13  46437                 Black          Cat    Euthanasia          True   \n",
       "\n",
       "    is_black  \n",
       "0      False  \n",
       "3      False  \n",
       "4      False  \n",
       "12      True  \n",
       "13      True  "
      ]
     },
     "execution_count": 13,
     "metadata": {},
     "output_type": "execute_result"
    }
   ],
   "source": [
    "# 6. Create a new boolean column, is_black, based on the fur_color column (Zach, 2022).\n",
    "df_clean['is_black'] = np.where(df_clean['fur_color'] == 'Black', True, False)\n",
    "df_clean.head()"
   ]
  },
  {
   "cell_type": "code",
   "execution_count": 14,
   "id": "4a29140c",
   "metadata": {},
   "outputs": [
    {
     "data": {
      "text/plain": [
       "array(['Adoption', 'Euthanasia', 'Transfer'], dtype=object)"
      ]
     },
     "execution_count": 14,
     "metadata": {},
     "output_type": "execute_result"
    }
   ],
   "source": [
    "# 7. Remove \"Stolen\", \"Escaped\", \"Released To Wild\", and \"Foster\" movement_type entries.\n",
    "df_clean = df_clean.loc[df_clean['movement_type'] != 'Stolen']\n",
    "df_clean = df_clean.loc[df_clean['movement_type'] != 'Escaped']\n",
    "df_clean = df_clean.loc[df_clean['movement_type'] != 'Released To Wild']\n",
    "df_clean = df_clean.loc[df_clean['movement_type'] != 'Foster']\n",
    "\n",
    "df_clean.movement_type.unique()"
   ]
  },
  {
   "cell_type": "code",
   "execution_count": 15,
   "id": "0147bb81",
   "metadata": {},
   "outputs": [
    {
     "data": {
      "text/plain": [
       "array(['Tortie', 'Dilute Tortoiseshell', 'Black', 'Seal',\n",
       "       'White and Grey', 'Black and Brown', 'Torbie', 'Various', 'Grey',\n",
       "       'Black and White', 'White and Orange', 'White', 'Buff', 'Fawn',\n",
       "       'Orange', 'Brown', 'Golden', 'Tabby', 'Tabbico', 'Cream',\n",
       "       'White and Tan', 'Lilac', 'Silver', 'Black and Grey',\n",
       "       'Black Tortie', 'Dilute Calico', 'Black, White and Brown',\n",
       "       'Calico', 'White and Tabby', 'Blue Point', 'White and Brown',\n",
       "       'Lilac Point', 'Flame Point', 'Lynx Point', 'Buff and White',\n",
       "       'Siver and Black', 'Tortie and White', 'Black and Tan',\n",
       "       'Chocolate Point', 'Tortie Point', 'Blue', 'Chocolate',\n",
       "       'Brindle and Black', 'Tan and Brown', 'Seal Point', 'Tricolour',\n",
       "       'Grey, Black and White', 'Cinnamon', 'Smoke'], dtype=object)"
      ]
     },
     "execution_count": 15,
     "metadata": {},
     "output_type": "execute_result"
    }
   ],
   "source": [
    "# 8a. Combine fur_color values that have the same two colors.\n",
    "df_clean['fur_color'] = df_clean['fur_color'].str.replace('Brown and Black', 'Black and Brown')\n",
    "df_clean['fur_color'] = df_clean['fur_color'].str.replace('Tan and Black', 'Black and Tan')\n",
    "df_clean['fur_color'] = df_clean['fur_color'].str.replace('White and Black', 'Black and White')\n",
    "df_clean['fur_color'] = df_clean['fur_color'].str.replace('grey and Black', 'Black and Grey')\n",
    "df_clean['fur_color'] = df_clean['fur_color'].str.replace('Grey and black', 'Black and Grey')\n",
    "df_clean['fur_color'] = df_clean['fur_color'].str.replace('Brown, Black and White', 'Black, Brown and White')\n",
    "df_clean['fur_color'] = df_clean['fur_color'].str.replace('Brown and White', 'White and Brown')\n",
    "df_clean['fur_color'] = df_clean['fur_color'].str.replace('Grey and White', 'White and Grey')\n",
    "df_clean['fur_color'] = df_clean['fur_color'].str.replace('Orange and White', 'White and Orange')\n",
    "df_clean['fur_color'] = df_clean['fur_color'].str.replace('Tabby and White', 'White and Tabby')\n",
    "df_clean['fur_color'] = df_clean['fur_color'].str.replace('Tan and White', 'White and Tan')\n",
    "\n",
    "# 8b. Fix fur_color value with missing comma.\n",
    "df_clean['fur_color'] = df_clean['fur_color'].str.replace('Grey Black and White', 'Grey, Black and White')\n",
    "\n",
    "# 8c. Fix fur_color values with lowercase letters.\n",
    "df_clean['fur_color'] = df_clean['fur_color'].str.replace('Black and grey', 'Black and Grey')\n",
    "df_clean['fur_color'] = df_clean['fur_color'].str.replace('Buff and white', 'Buff and White')\n",
    "df_clean['fur_color'] = df_clean['fur_color'].str.replace('Dilute calico', 'Dilute Calico')\n",
    "df_clean['fur_color'] = df_clean['fur_color'].str.replace('Dilute tortoiseshell', 'Dilute Tortoiseshell')\n",
    "df_clean['fur_color'] = df_clean['fur_color'].str.replace('Lynx point', 'Lynx Point')\n",
    "\n",
    "df_clean.fur_color.unique()"
   ]
  },
  {
   "cell_type": "code",
   "execution_count": 16,
   "id": "f452002e",
   "metadata": {},
   "outputs": [
    {
     "name": "stdout",
     "output_type": "stream",
     "text": [
      "There are 0 duplicated ids in the dataset.\n"
     ]
    }
   ],
   "source": [
    "# 9. Drop rows where an id references two different movement_type values (EdChum, 2016).\n",
    "df_clean = df_clean.loc[(df_clean['movement_type'] == 'Adoption') | ~df_clean['id'].duplicated()]\n",
    "df_clean = df_clean.loc[(df_clean['movement_type'] == 'Transfer') | ~df_clean['id'].duplicated()]\n",
    "\n",
    "# Confirm there are no id values that are duplicates.\n",
    "duplicated_ids = sum(df_clean.id.duplicated() == True)\n",
    "print('There are {} duplicated ids in the dataset.'.format(duplicated_ids))"
   ]
  },
  {
   "cell_type": "code",
   "execution_count": 17,
   "id": "6a3db3df",
   "metadata": {},
   "outputs": [
    {
     "name": "stdout",
     "output_type": "stream",
     "text": [
      "<class 'pandas.core.frame.DataFrame'>\n",
      "Int64Index: 3603 entries, 0 to 10285\n",
      "Data columns (total 6 columns):\n",
      " #   Column         Non-Null Count  Dtype \n",
      "---  ------         --------------  ----- \n",
      " 0   id             3603 non-null   int64 \n",
      " 1   fur_color      3603 non-null   object\n",
      " 2   species_name   3603 non-null   object\n",
      " 3   movement_type  3603 non-null   object\n",
      " 4   put_to_sleep   3603 non-null   bool  \n",
      " 5   is_black       3603 non-null   bool  \n",
      "dtypes: bool(2), int64(1), object(3)\n",
      "memory usage: 147.8+ KB\n"
     ]
    }
   ],
   "source": [
    "df_clean.info()"
   ]
  },
  {
   "cell_type": "code",
   "execution_count": 18,
   "id": "107b8e94",
   "metadata": {},
   "outputs": [
    {
     "data": {
      "text/plain": [
       "id               0\n",
       "fur_color        0\n",
       "species_name     0\n",
       "movement_type    0\n",
       "put_to_sleep     0\n",
       "is_black         0\n",
       "dtype: int64"
      ]
     },
     "execution_count": 18,
     "metadata": {},
     "output_type": "execute_result"
    }
   ],
   "source": [
    "df_clean.isnull().sum()"
   ]
  },
  {
   "cell_type": "code",
   "execution_count": 19,
   "id": "f3c72315",
   "metadata": {},
   "outputs": [
    {
     "data": {
      "text/plain": [
       "id               3603\n",
       "fur_color          49\n",
       "species_name        1\n",
       "movement_type       3\n",
       "put_to_sleep        2\n",
       "is_black            2\n",
       "dtype: int64"
      ]
     },
     "execution_count": 19,
     "metadata": {},
     "output_type": "execute_result"
    }
   ],
   "source": [
    "df_clean.nunique()"
   ]
  },
  {
   "cell_type": "markdown",
   "id": "390c188c",
   "metadata": {},
   "source": [
    "> The dataset is now clean. There are no longer any extraneous rows or columns, formatting errors, extraneous `movement_type` values, missing values, or duplicate values. The dataset now contains:\n",
    "> - 3,603 unique animals\n",
    "> - 49 `fur_color` values\n",
    "> - 1 `species_type` value: \"Cat\"\n",
    "> - 3 `movement_type` values: \"Adoption\", \"Euthanasia\", or \"Transfer\"\n",
    "> - Boolean `put_to_sleep`\n",
    "> - Boolean `is_black`"
   ]
  },
  {
   "cell_type": "markdown",
   "id": "743251c3",
   "metadata": {},
   "source": [
    "<a id='analysis'></a>\n",
    "## Data Analysis\n",
    "\n",
    "### Techniques & Justification\n",
    "> I will use correlation tests to find if there is a correlation between fur color and adoption likelihood, focusing on black cats. I will do so by utilizing a bar graph to visualize the number of cats in each `movement_type`, a contingency table and heatmap to visualize frequency distribution, the Chi-Square Test of Independence to test whether `is_black` has any relationship with `movement_type`, and Cramér’s V to measure the strength of the relationship between `is_black` and `movement_type`.\n",
    "\n",
    "> Since the data that I am analyzing is categorical and nominal, I am limited in the number of techniques available for analysis. The Chi-Square Test of Independence measures statistical significance, while Cramér’s V measures substantive significance. These two techniques will provide information on the presence of a relationship and it’s strength, and therefore assist in providing an answer for the hypothesis.\n",
    "\n",
    "### Hypothesis\n",
    "\n",
    "> **Null:** Fur color (black vs non-black) is not related to the outcome of a cat.\\\n",
    "> **Alternative:** Fur color (black vs non-black) is related to the outcome of a cat.\n",
    "\n",
    "### Visualizations"
   ]
  },
  {
   "cell_type": "code",
   "execution_count": 20,
   "id": "7235bb6d",
   "metadata": {
    "scrolled": true
   },
   "outputs": [
    {
     "data": {
      "text/html": [
       "<div>\n",
       "<style scoped>\n",
       "    .dataframe tbody tr th:only-of-type {\n",
       "        vertical-align: middle;\n",
       "    }\n",
       "\n",
       "    .dataframe tbody tr th {\n",
       "        vertical-align: top;\n",
       "    }\n",
       "\n",
       "    .dataframe thead th {\n",
       "        text-align: right;\n",
       "    }\n",
       "</style>\n",
       "<table border=\"1\" class=\"dataframe\">\n",
       "  <thead>\n",
       "    <tr style=\"text-align: right;\">\n",
       "      <th>movement_type</th>\n",
       "      <th>Adoption</th>\n",
       "      <th>Euthanasia</th>\n",
       "      <th>Transfer</th>\n",
       "    </tr>\n",
       "    <tr>\n",
       "      <th>is_black</th>\n",
       "      <th></th>\n",
       "      <th></th>\n",
       "      <th></th>\n",
       "    </tr>\n",
       "  </thead>\n",
       "  <tbody>\n",
       "    <tr>\n",
       "      <th>False</th>\n",
       "      <td>2720</td>\n",
       "      <td>64</td>\n",
       "      <td>231</td>\n",
       "    </tr>\n",
       "    <tr>\n",
       "      <th>True</th>\n",
       "      <td>514</td>\n",
       "      <td>14</td>\n",
       "      <td>60</td>\n",
       "    </tr>\n",
       "  </tbody>\n",
       "</table>\n",
       "</div>"
      ],
      "text/plain": [
       "movement_type  Adoption  Euthanasia  Transfer\n",
       "is_black                                     \n",
       "False              2720          64       231\n",
       "True                514          14        60"
      ]
     },
     "execution_count": 20,
     "metadata": {},
     "output_type": "execute_result"
    }
   ],
   "source": [
    "# Convert the data into a contingency table with frequencies for visualization and use in creation of the heatmap (Pipis, 2020).\n",
    "contingency = pd.crosstab(df_clean['is_black'], df_clean['movement_type'])\n",
    "contingency"
   ]
  },
  {
   "cell_type": "code",
   "execution_count": 21,
   "id": "69c01edd",
   "metadata": {
    "scrolled": true
   },
   "outputs": [
    {
     "data": {
      "image/png": "[encoded data removed]",
      "text/plain": [
       "<Figure size 936x936 with 2 Axes>"
      ]
     },
     "metadata": {},
     "output_type": "display_data"
    }
   ],
   "source": [
    "# Visualize the contingency table with a heatmap (Pipis, 2020).\n",
    "sns.set(font_scale=1.2)\n",
    "plt.figure(figsize=(13,13));\n",
    "plt.title('Number of Cats of Each Fur Color (Black vs Non-Black) in Each Movement Type', fontsize=18);\n",
    "\n",
    "s = sns.heatmap(contingency, annot=True, cmap=\"YlGnBu\");\n",
    "s.set(xlabel='Movement Type', ylabel='Fur Color');"
   ]
  },
  {
   "cell_type": "markdown",
   "id": "d5d5214f",
   "metadata": {},
   "source": [
    "### Chi-Square Test of Independence"
   ]
  },
  {
   "cell_type": "code",
   "execution_count": 22,
   "id": "1c5bdb05",
   "metadata": {
    "scrolled": true
   },
   "outputs": [
    {
     "name": "stdout",
     "output_type": "stream",
     "text": [
      "The p-value is 0.10438440667130137.\n"
     ]
    }
   ],
   "source": [
    "# Perform the Chi-Square Test of Independence (Pipis, 2020).\n",
    "c, p, dof, expected = chi2_contingency(contingency)\n",
    "print('The p-value is {}.'.format(p))"
   ]
  },
  {
   "cell_type": "code",
   "execution_count": 23,
   "id": "0d3c78ba",
   "metadata": {},
   "outputs": [
    {
     "name": "stdout",
     "output_type": "stream",
     "text": [
      "The degree of freedom is 2.\n"
     ]
    }
   ],
   "source": [
    "print('The degree of freedom is {}.'.format(dof))"
   ]
  },
  {
   "cell_type": "markdown",
   "id": "0d0e3fbf",
   "metadata": {},
   "source": [
    "> The p-value is 10.44%. With a common threshold of 0.05, and a degree of freedom (`d_f`) of 2, the critical Chi-Square value is 5.99% (Glen, n.d.). This shows that there is statistical significance between `fur_color` and `movement_type` therefore we fail to reject the alternative hypothesis (Turney, 2023)."
   ]
  },
  {
   "cell_type": "markdown",
   "id": "fb637448",
   "metadata": {},
   "source": [
    "### Cramér’s V"
   ]
  },
  {
   "cell_type": "code",
   "execution_count": 24,
   "id": "9f081cb1",
   "metadata": {},
   "outputs": [
    {
     "name": "stdout",
     "output_type": "stream",
     "text": [
      "The Cramer's V value is 0.03541651750170314.\n"
     ]
    }
   ],
   "source": [
    "# Calculate Cramér’s V (Scipy.Stats.contingency.association, n.d.).\n",
    "cramers_v = association(contingency, method='cramer')\n",
    "print('The Cramer\\'s V value is {}.'.format(cramers_v))"
   ]
  },
  {
   "cell_type": "markdown",
   "id": "0649038d",
   "metadata": {},
   "source": [
    "> The Cramér’s V value is 0.03541651750170314. Given a degree of freedom of 1 (2 rows - 1), this indicates a small/weak relationship between `is_black` and `movement_type` (Zach, 2021)."
   ]
  },
  {
   "cell_type": "markdown",
   "id": "1c2bc27b",
   "metadata": {},
   "source": [
    "<a id='conclusion'></a>\n",
    "## Conclusion\n",
    "\n",
    "### Does fur color have a strong or weak relationship with the outcome of a cat?\n",
    "\n",
    "> A Chi-Square Test of Independence was performed utilizing the `is_black` and `movement_type` columns. This produced a p-value of 10.44% and a critical Chi-Square value of 5.99%, showing statistical significance between `is_black` and `movement_type`. A Cramér’s V test was performed on the contingency table, resulting in a Cramér’s V value of 0.03541651750170314. With a degree of freedom of 1, this indicates a small/weak relationship between `is_black` and `movement_type`. \n",
    "\n",
    "> Because there is statistical significance and a small/weak realtionship between `is_black` and `movement_type`, the analysis has failed to reject the alternative hypothesis. Fur color (black vs non-black) is related to the outcome of a cat, though the relationship is weak.\n",
    "\n",
    "### Limitations\n",
    "\n",
    "> I encountered two limitations during the investigation and analysis of the Bloomington Animal Shelter: Animal Care and Control dataset. The data originates from only one shelter during a span of time that is unconfirmed. The first is a limiation because it only reports on animals from one geographic location, and therefore is not an accurate representation of the experiences of adoptable animals on a more global scale. The second is a limiation because while the dataset is claimed to originate from a management software migration that occurred in 2017, there are dates included that span into 2019. There is also a large amount of entries with missing dates. Therefore the span of time that the dataset covers is undertermined.\n",
    "\n"
   ]
  },
  {
   "cell_type": "markdown",
   "id": "3e50cab0",
   "metadata": {},
   "source": [
    "<a id='references'></a>\n",
    "### References\n",
    "\n",
    "> *Celebrate black cat appreciation day on August 17!* (2017, August 15). ASPCA. <br> https://www.aspca.org/news/its-black-cat-appreciation-day\n",
    "\n",
    "> EdChum. (2016, July 26). *Pandas: Remove some duplicate values based on conditions.* Stack Overflow. <br> https://stackoverflow.com/questions/38584061/pandas-remove-some-duplicate-values-based-on-conditions\n",
    "\n",
    "> Glen, S. (n.d.). *Chi Squared table (Right tail).* Statistics How To. <br> https://www.statisticshowto.com/tables/chi-squared-table-right-tail/\n",
    "\n",
    "> John Snow Labs. (2022, November 29). *Bloomington Animal Care and Control adopted animals.* John Snow Labs. <br> https://www.johnsnowlabs.com/marketplace/bloomington-animal-care-and-control-adopted-animals/\n",
    "\n",
    "> Pipis, G. (2020, October 24). *How to run the Chi-Square test in Python.* Medium. <br> https://medium.com/swlh/how-to-run-chi-square-test-in-python-4e9f5d10249d\n",
    "\n",
    "> *Scipy.Stats.contingency.association.* (n.d.). SciPY v1.11.3 Manual.  <br> https://docs.scipy.org/doc/scipy/reference/generated/scipy.stats.contingency.association.html\n",
    "\n",
    "> The Devastator. (2022, December 4). *Adoptions by breed and date.* Kaggle. <br> https://www.kaggle.com/datasets/thedevastator/analyzing-adoption-trends-at-the-bloomington-ani\n",
    "\n",
    "> Turney, S. (2023, June 22). *Chi-Square Test of Independence | Formula, guide & examples.* Scribbr. <br> https://www.scribbr.com/statistics/chi-square-test-of-independence/\n",
    "\n",
    "> Vocelle, L. (2019, June 29). *History of the cat in the Middle Ages (Part 2).* THE GREAT CAT. <br> https://www.thegreatcat.org/history-of-the-cat-in-the-middle-ages-part-2/\n",
    "\n",
    "> Zach. (2021, September 30). *How to interpret Cramer’s V (With examples).* Statology. <br> \n",
    "https://www.statology.org/interpret-cramers-v/\n",
    "\n",
    "> Zach. (2022, October 4). *Pandas: How to create boolean column based on condition.* Statology. <br> https://www.statology.org/pandas-create-boolean-column-based-on-condition/"
   ]
  },
  {
   "cell_type": "code",
   "execution_count": null,
   "id": "0c11dbbf",
   "metadata": {},
   "outputs": [],
   "source": []
  }
 ],
 "metadata": {
  "kernelspec": {
   "display_name": "Python 3 (ipykernel)",
   "language": "python",
   "name": "python3"
  },
  "language_info": {
   "codemirror_mode": {
    "name": "ipython",
    "version": 3
   },
   "file_extension": ".py",
   "mimetype": "text/x-python",
   "name": "python",
   "nbconvert_exporter": "python",
   "pygments_lexer": "ipython3",
   "version": "3.9.12"
  }
 },
 "nbformat": 4,
 "nbformat_minor": 5
}
